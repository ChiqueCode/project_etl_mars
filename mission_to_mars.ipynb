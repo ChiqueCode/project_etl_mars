{
 "cells": [
  {
   "cell_type": "markdown",
   "metadata": {},
   "source": [
    "                                         NASA MARS NEWS\n",
    "                                            \n",
    "                                            Part I\n",
    "                                            \n",
    "                               Scraping the news title and paragraph"
   ]
  },
  {
   "cell_type": "code",
   "execution_count": 18,
   "metadata": {},
   "outputs": [],
   "source": [
    "# Dependancies\n",
    "import pandas as pd\n",
    "import requests\n",
    "from bs4 import BeautifulSoup\n",
    "from splinter import Browser\n",
    "import time"
   ]
  },
  {
   "cell_type": "code",
   "execution_count": 8,
   "metadata": {},
   "outputs": [
    {
     "name": "stdout",
     "output_type": "stream",
     "text": [
      "/usr/local/bin/chromedriver\r\n"
     ]
    }
   ],
   "source": [
    "# scraping through Browser, creating a path\n",
    "!which chromedriver\n",
    "executable_path = {'executable_path': '/usr/local/bin/chromedriver'}\n",
    "browser = Browser('chrome', **executable_path, headless=False)"
   ]
  },
  {
   "cell_type": "code",
   "execution_count": 9,
   "metadata": {},
   "outputs": [],
   "source": [
    "# provide an url\n",
    "url ='https://mars.nasa.gov/news/'\n",
    "\n",
    "# visit url\n",
    "browser.visit(url)\n",
    "# grab html form our browser\n",
    "html = browser.html\n",
    "# parse it out with the BeautifulSoup and save it as a soup object\n",
    "soup = BeautifulSoup(html, 'html.parser')"
   ]
  },
  {
   "cell_type": "code",
   "execution_count": 10,
   "metadata": {},
   "outputs": [],
   "source": [
    "# after pretty print get the results for news_title\n",
    "results = soup.find_all('div', class_=\"content_title\") \n",
    "# print(results)"
   ]
  },
  {
   "cell_type": "code",
   "execution_count": 11,
   "metadata": {},
   "outputs": [
    {
     "data": {
      "text/plain": [
       "'For InSight, Dust Cleanings Will Yield New Science'"
      ]
     },
     "execution_count": 11,
     "metadata": {},
     "output_type": "execute_result"
    }
   ],
   "source": [
    "# scrape the text from results\n",
    "news_title = results[0].a.text.strip()\n",
    "news_title"
   ]
  },
  {
   "cell_type": "code",
   "execution_count": 12,
   "metadata": {},
   "outputs": [
    {
     "name": "stdout",
     "output_type": "stream",
     "text": [
      "Wind can be crucial to clearing dust from spacecraft solar panels on Mars. With InSight's meteorological sensors, scientists get their first measurements of wind and dust interacting \"live\" on the Martian surface.  \n"
     ]
    }
   ],
   "source": [
    "# Paragraph results\n",
    "news_paragraph = soup.find(\"div\", class_= \"rollover_description_inner\").text\n",
    "print(news_paragraph)"
   ]
  },
  {
   "cell_type": "markdown",
   "metadata": {},
   "source": [
    "                                              Part II\n",
    "                                             \n",
    "                         Using Selenium to extract the list of URL for images\n",
    "                             \n",
    "                                    Grabbing only one image URL\n"
   ]
  },
  {
   "cell_type": "code",
   "execution_count": 13,
   "metadata": {},
   "outputs": [
    {
     "name": "stdout",
     "output_type": "stream",
     "text": [
      "https://www.jpl.nasa.gov/assets/images/logo_nasa_trio_black@2x.png\n",
      "https://www.jpl.nasa.gov/assets/images/logo_nasa_trio_black@2x.png\n",
      "https://www.jpl.nasa.gov/assets/images/overlay-arrow.png\n",
      "https://www.jpl.nasa.gov/spaceimages/images/wallpaper/PIA23203-640x350.jpg\n",
      "https://www.jpl.nasa.gov/assets/images/overlay-arrow.png\n",
      "https://www.jpl.nasa.gov/spaceimages/images/wallpaper/PIA23191-640x350.jpg\n",
      "https://www.jpl.nasa.gov/assets/images/overlay-arrow.png\n",
      "https://www.jpl.nasa.gov/spaceimages/images/wallpaper/PIA23202-640x350.jpg\n",
      "https://www.jpl.nasa.gov/assets/images/overlay-arrow.png\n",
      "https://www.jpl.nasa.gov/spaceimages/images/wallpaper/PIA23201-640x350.jpg\n",
      "https://www.jpl.nasa.gov/assets/images/overlay-arrow.png\n",
      "https://www.jpl.nasa.gov/spaceimages/images/wallpaper/PIA23180-640x350.jpg\n",
      "https://www.jpl.nasa.gov/assets/images/overlay-arrow.png\n",
      "https://www.jpl.nasa.gov/spaceimages/images/wallpaper/PIA23189-640x350.jpg\n",
      "https://www.jpl.nasa.gov/assets/images/overlay-arrow.png\n",
      "https://www.jpl.nasa.gov/spaceimages/images/wallpaper/PIA23188-640x350.jpg\n",
      "https://www.jpl.nasa.gov/assets/images/overlay-arrow.png\n",
      "https://www.jpl.nasa.gov/spaceimages/images/wallpaper/PIA23187-640x350.jpg\n",
      "https://www.jpl.nasa.gov/assets/images/overlay-arrow.png\n",
      "https://www.jpl.nasa.gov/spaceimages/images/wallpaper/PIA23178-640x350.jpg\n",
      "https://www.jpl.nasa.gov/assets/images/overlay-arrow.png\n",
      "https://www.jpl.nasa.gov/spaceimages/images/wallpaper/PIA23186-640x350.jpg\n",
      "https://www.jpl.nasa.gov/assets/images/overlay-arrow.png\n",
      "https://www.jpl.nasa.gov/spaceimages/images/wallpaper/PIA23177-640x350.jpg\n",
      "https://www.jpl.nasa.gov/assets/images/overlay-arrow.png\n",
      "https://www.jpl.nasa.gov/spaceimages/images/wallpaper/PIA23176-640x350.jpg\n",
      "https://www.jpl.nasa.gov/assets/images/overlay-arrow.png\n",
      "https://www.jpl.nasa.gov/spaceimages/images/wallpaper/PIA23120-640x350.jpg\n",
      "https://www.jpl.nasa.gov/assets/images/overlay-arrow.png\n",
      "https://www.jpl.nasa.gov/spaceimages/images/wallpaper/PIA23119-640x350.jpg\n",
      "https://www.jpl.nasa.gov/assets/images/overlay-arrow.png\n",
      "https://www.jpl.nasa.gov/spaceimages/images/wallpaper/PIA23116-640x350.jpg\n",
      "https://www.jpl.nasa.gov/assets/images/overlay-arrow.png\n",
      "https://www.jpl.nasa.gov/spaceimages/images/wallpaper/PIA23115-640x350.jpg\n",
      "https://www.jpl.nasa.gov/assets/images/overlay-arrow.png\n",
      "https://www.jpl.nasa.gov/spaceimages/images/wallpaper/PIA23114-640x350.jpg\n",
      "https://www.jpl.nasa.gov/assets/images/overlay-arrow.png\n",
      "https://www.jpl.nasa.gov/spaceimages/images/wallpaper/PIA23184-640x350.jpg\n",
      "https://www.jpl.nasa.gov/assets/images/overlay-arrow.png\n",
      "https://www.jpl.nasa.gov/spaceimages/images/wallpaper/PIA23183-640x350.jpg\n",
      "https://www.jpl.nasa.gov/assets/images/overlay-arrow.png\n",
      "https://www.jpl.nasa.gov/spaceimages/images/wallpaper/PIA23112-640x350.jpg\n",
      "https://www.jpl.nasa.gov/assets/images/overlay-arrow.png\n",
      "https://www.jpl.nasa.gov/spaceimages/images/wallpaper/PIA23111-640x350.jpg\n",
      "https://www.jpl.nasa.gov/assets/images/overlay-arrow.png\n",
      "https://www.jpl.nasa.gov/spaceimages/images/wallpaper/PIA23140-640x350.jpg\n",
      "https://www.jpl.nasa.gov/assets/images/overlay-arrow.png\n",
      "https://www.jpl.nasa.gov/spaceimages/images/wallpaper/PIA23138-640x350.jpg\n",
      "https://www.jpl.nasa.gov/assets/images/overlay-arrow.png\n",
      "https://www.jpl.nasa.gov/spaceimages/images/wallpaper/PIA23137-640x350.jpg\n",
      "https://www.jpl.nasa.gov/assets/images/overlay-arrow.png\n",
      "https://www.jpl.nasa.gov/spaceimages/images/wallpaper/PIA23139-640x350.jpg\n",
      "https://www.jpl.nasa.gov/assets/images/overlay-arrow.png\n",
      "https://www.jpl.nasa.gov/spaceimages/images/wallpaper/PIA23110-640x350.jpg\n",
      "https://www.jpl.nasa.gov/assets/images/overlay-arrow.png\n",
      "https://www.jpl.nasa.gov/spaceimages/images/wallpaper/PIA23109-640x350.jpg\n",
      "https://www.jpl.nasa.gov/assets/images/overlay-arrow.png\n",
      "https://www.jpl.nasa.gov/spaceimages/images/wallpaper/PIA23108-640x350.jpg\n",
      "https://www.jpl.nasa.gov/assets/images/overlay-arrow.png\n",
      "https://www.jpl.nasa.gov/spaceimages/images/wallpaper/PIA23107-640x350.jpg\n",
      "https://www.jpl.nasa.gov/assets/images/overlay-arrow.png\n",
      "https://www.jpl.nasa.gov/spaceimages/images/wallpaper/PIA23095-640x350.jpg\n",
      "https://www.jpl.nasa.gov/assets/images/overlay-arrow.png\n",
      "https://www.jpl.nasa.gov/spaceimages/images/wallpaper/PIA23135-640x350.jpg\n",
      "https://www.jpl.nasa.gov/assets/images/overlay-arrow.png\n",
      "https://www.jpl.nasa.gov/spaceimages/images/wallpaper/PIA23134-640x350.jpg\n",
      "https://www.jpl.nasa.gov/assets/images/content/tmp/images/jpl_photojournal(3x1).jpg\n",
      "https://www.jpl.nasa.gov/assets/images/content/tmp/images/nasa_images(3x1).jpg\n",
      "https://www.jpl.nasa.gov/assets/images/overlay-arrow.png\n",
      "https://imagecache.jpl.nasa.gov/images/640x350/PIA23203_main_slider_after-16-640x350.jpg\n",
      "https://www.jpl.nasa.gov/assets/images/overlay-arrow.png\n",
      "https://imagecache.jpl.nasa.gov/images/640x350/PIA23201_raw-16-640x350.jpg\n",
      "https://www.jpl.nasa.gov/assets/images/overlay-arrow.png\n",
      "https://imagecache.jpl.nasa.gov/images/640x350/PIA23177-16-640x350.jpg\n",
      "[<selenium.webdriver.remote.webelement.WebElement (session=\"99744e3a3ed6df7c05f0f16d49bc3ba6\", element=\"0.9924676233325564-1\")>, <selenium.webdriver.remote.webelement.WebElement (session=\"99744e3a3ed6df7c05f0f16d49bc3ba6\", element=\"0.9924676233325564-2\")>, <selenium.webdriver.remote.webelement.WebElement (session=\"99744e3a3ed6df7c05f0f16d49bc3ba6\", element=\"0.9924676233325564-3\")>, <selenium.webdriver.remote.webelement.WebElement (session=\"99744e3a3ed6df7c05f0f16d49bc3ba6\", element=\"0.9924676233325564-4\")>, <selenium.webdriver.remote.webelement.WebElement (session=\"99744e3a3ed6df7c05f0f16d49bc3ba6\", element=\"0.9924676233325564-5\")>, <selenium.webdriver.remote.webelement.WebElement (session=\"99744e3a3ed6df7c05f0f16d49bc3ba6\", element=\"0.9924676233325564-6\")>, <selenium.webdriver.remote.webelement.WebElement (session=\"99744e3a3ed6df7c05f0f16d49bc3ba6\", element=\"0.9924676233325564-7\")>, <selenium.webdriver.remote.webelement.WebElement (session=\"99744e3a3ed6df7c05f0f16d49bc3ba6\", element=\"0.9924676233325564-8\")>, <selenium.webdriver.remote.webelement.WebElement (session=\"99744e3a3ed6df7c05f0f16d49bc3ba6\", element=\"0.9924676233325564-9\")>, <selenium.webdriver.remote.webelement.WebElement (session=\"99744e3a3ed6df7c05f0f16d49bc3ba6\", element=\"0.9924676233325564-10\")>, <selenium.webdriver.remote.webelement.WebElement (session=\"99744e3a3ed6df7c05f0f16d49bc3ba6\", element=\"0.9924676233325564-11\")>, <selenium.webdriver.remote.webelement.WebElement (session=\"99744e3a3ed6df7c05f0f16d49bc3ba6\", element=\"0.9924676233325564-12\")>, <selenium.webdriver.remote.webelement.WebElement (session=\"99744e3a3ed6df7c05f0f16d49bc3ba6\", element=\"0.9924676233325564-13\")>, <selenium.webdriver.remote.webelement.WebElement (session=\"99744e3a3ed6df7c05f0f16d49bc3ba6\", element=\"0.9924676233325564-14\")>, <selenium.webdriver.remote.webelement.WebElement (session=\"99744e3a3ed6df7c05f0f16d49bc3ba6\", element=\"0.9924676233325564-15\")>, <selenium.webdriver.remote.webelement.WebElement (session=\"99744e3a3ed6df7c05f0f16d49bc3ba6\", element=\"0.9924676233325564-16\")>, <selenium.webdriver.remote.webelement.WebElement (session=\"99744e3a3ed6df7c05f0f16d49bc3ba6\", element=\"0.9924676233325564-17\")>, <selenium.webdriver.remote.webelement.WebElement (session=\"99744e3a3ed6df7c05f0f16d49bc3ba6\", element=\"0.9924676233325564-18\")>, <selenium.webdriver.remote.webelement.WebElement (session=\"99744e3a3ed6df7c05f0f16d49bc3ba6\", element=\"0.9924676233325564-19\")>, <selenium.webdriver.remote.webelement.WebElement (session=\"99744e3a3ed6df7c05f0f16d49bc3ba6\", element=\"0.9924676233325564-20\")>, <selenium.webdriver.remote.webelement.WebElement (session=\"99744e3a3ed6df7c05f0f16d49bc3ba6\", element=\"0.9924676233325564-21\")>, <selenium.webdriver.remote.webelement.WebElement (session=\"99744e3a3ed6df7c05f0f16d49bc3ba6\", element=\"0.9924676233325564-22\")>, <selenium.webdriver.remote.webelement.WebElement (session=\"99744e3a3ed6df7c05f0f16d49bc3ba6\", element=\"0.9924676233325564-23\")>, <selenium.webdriver.remote.webelement.WebElement (session=\"99744e3a3ed6df7c05f0f16d49bc3ba6\", element=\"0.9924676233325564-24\")>, <selenium.webdriver.remote.webelement.WebElement (session=\"99744e3a3ed6df7c05f0f16d49bc3ba6\", element=\"0.9924676233325564-25\")>, <selenium.webdriver.remote.webelement.WebElement (session=\"99744e3a3ed6df7c05f0f16d49bc3ba6\", element=\"0.9924676233325564-26\")>, <selenium.webdriver.remote.webelement.WebElement (session=\"99744e3a3ed6df7c05f0f16d49bc3ba6\", element=\"0.9924676233325564-27\")>, <selenium.webdriver.remote.webelement.WebElement (session=\"99744e3a3ed6df7c05f0f16d49bc3ba6\", element=\"0.9924676233325564-28\")>, <selenium.webdriver.remote.webelement.WebElement (session=\"99744e3a3ed6df7c05f0f16d49bc3ba6\", element=\"0.9924676233325564-29\")>, <selenium.webdriver.remote.webelement.WebElement (session=\"99744e3a3ed6df7c05f0f16d49bc3ba6\", element=\"0.9924676233325564-30\")>, <selenium.webdriver.remote.webelement.WebElement (session=\"99744e3a3ed6df7c05f0f16d49bc3ba6\", element=\"0.9924676233325564-31\")>, <selenium.webdriver.remote.webelement.WebElement (session=\"99744e3a3ed6df7c05f0f16d49bc3ba6\", element=\"0.9924676233325564-32\")>, <selenium.webdriver.remote.webelement.WebElement (session=\"99744e3a3ed6df7c05f0f16d49bc3ba6\", element=\"0.9924676233325564-33\")>, <selenium.webdriver.remote.webelement.WebElement (session=\"99744e3a3ed6df7c05f0f16d49bc3ba6\", element=\"0.9924676233325564-34\")>, <selenium.webdriver.remote.webelement.WebElement (session=\"99744e3a3ed6df7c05f0f16d49bc3ba6\", element=\"0.9924676233325564-35\")>, <selenium.webdriver.remote.webelement.WebElement (session=\"99744e3a3ed6df7c05f0f16d49bc3ba6\", element=\"0.9924676233325564-36\")>, <selenium.webdriver.remote.webelement.WebElement (session=\"99744e3a3ed6df7c05f0f16d49bc3ba6\", element=\"0.9924676233325564-37\")>, <selenium.webdriver.remote.webelement.WebElement (session=\"99744e3a3ed6df7c05f0f16d49bc3ba6\", element=\"0.9924676233325564-38\")>, <selenium.webdriver.remote.webelement.WebElement (session=\"99744e3a3ed6df7c05f0f16d49bc3ba6\", element=\"0.9924676233325564-39\")>, <selenium.webdriver.remote.webelement.WebElement (session=\"99744e3a3ed6df7c05f0f16d49bc3ba6\", element=\"0.9924676233325564-40\")>, <selenium.webdriver.remote.webelement.WebElement (session=\"99744e3a3ed6df7c05f0f16d49bc3ba6\", element=\"0.9924676233325564-41\")>, <selenium.webdriver.remote.webelement.WebElement (session=\"99744e3a3ed6df7c05f0f16d49bc3ba6\", element=\"0.9924676233325564-42\")>, <selenium.webdriver.remote.webelement.WebElement (session=\"99744e3a3ed6df7c05f0f16d49bc3ba6\", element=\"0.9924676233325564-43\")>, <selenium.webdriver.remote.webelement.WebElement (session=\"99744e3a3ed6df7c05f0f16d49bc3ba6\", element=\"0.9924676233325564-44\")>, <selenium.webdriver.remote.webelement.WebElement (session=\"99744e3a3ed6df7c05f0f16d49bc3ba6\", element=\"0.9924676233325564-45\")>, <selenium.webdriver.remote.webelement.WebElement (session=\"99744e3a3ed6df7c05f0f16d49bc3ba6\", element=\"0.9924676233325564-46\")>, <selenium.webdriver.remote.webelement.WebElement (session=\"99744e3a3ed6df7c05f0f16d49bc3ba6\", element=\"0.9924676233325564-47\")>, <selenium.webdriver.remote.webelement.WebElement (session=\"99744e3a3ed6df7c05f0f16d49bc3ba6\", element=\"0.9924676233325564-48\")>, <selenium.webdriver.remote.webelement.WebElement (session=\"99744e3a3ed6df7c05f0f16d49bc3ba6\", element=\"0.9924676233325564-49\")>, <selenium.webdriver.remote.webelement.WebElement (session=\"99744e3a3ed6df7c05f0f16d49bc3ba6\", element=\"0.9924676233325564-50\")>, <selenium.webdriver.remote.webelement.WebElement (session=\"99744e3a3ed6df7c05f0f16d49bc3ba6\", element=\"0.9924676233325564-51\")>, <selenium.webdriver.remote.webelement.WebElement (session=\"99744e3a3ed6df7c05f0f16d49bc3ba6\", element=\"0.9924676233325564-52\")>, <selenium.webdriver.remote.webelement.WebElement (session=\"99744e3a3ed6df7c05f0f16d49bc3ba6\", element=\"0.9924676233325564-53\")>, <selenium.webdriver.remote.webelement.WebElement (session=\"99744e3a3ed6df7c05f0f16d49bc3ba6\", element=\"0.9924676233325564-54\")>, <selenium.webdriver.remote.webelement.WebElement (session=\"99744e3a3ed6df7c05f0f16d49bc3ba6\", element=\"0.9924676233325564-55\")>, <selenium.webdriver.remote.webelement.WebElement (session=\"99744e3a3ed6df7c05f0f16d49bc3ba6\", element=\"0.9924676233325564-56\")>, <selenium.webdriver.remote.webelement.WebElement (session=\"99744e3a3ed6df7c05f0f16d49bc3ba6\", element=\"0.9924676233325564-57\")>, <selenium.webdriver.remote.webelement.WebElement (session=\"99744e3a3ed6df7c05f0f16d49bc3ba6\", element=\"0.9924676233325564-58\")>, <selenium.webdriver.remote.webelement.WebElement (session=\"99744e3a3ed6df7c05f0f16d49bc3ba6\", element=\"0.9924676233325564-59\")>, <selenium.webdriver.remote.webelement.WebElement (session=\"99744e3a3ed6df7c05f0f16d49bc3ba6\", element=\"0.9924676233325564-60\")>, <selenium.webdriver.remote.webelement.WebElement (session=\"99744e3a3ed6df7c05f0f16d49bc3ba6\", element=\"0.9924676233325564-61\")>, <selenium.webdriver.remote.webelement.WebElement (session=\"99744e3a3ed6df7c05f0f16d49bc3ba6\", element=\"0.9924676233325564-62\")>, <selenium.webdriver.remote.webelement.WebElement (session=\"99744e3a3ed6df7c05f0f16d49bc3ba6\", element=\"0.9924676233325564-63\")>, <selenium.webdriver.remote.webelement.WebElement (session=\"99744e3a3ed6df7c05f0f16d49bc3ba6\", element=\"0.9924676233325564-64\")>, <selenium.webdriver.remote.webelement.WebElement (session=\"99744e3a3ed6df7c05f0f16d49bc3ba6\", element=\"0.9924676233325564-65\")>, <selenium.webdriver.remote.webelement.WebElement (session=\"99744e3a3ed6df7c05f0f16d49bc3ba6\", element=\"0.9924676233325564-66\")>, <selenium.webdriver.remote.webelement.WebElement (session=\"99744e3a3ed6df7c05f0f16d49bc3ba6\", element=\"0.9924676233325564-67\")>, <selenium.webdriver.remote.webelement.WebElement (session=\"99744e3a3ed6df7c05f0f16d49bc3ba6\", element=\"0.9924676233325564-68\")>, <selenium.webdriver.remote.webelement.WebElement (session=\"99744e3a3ed6df7c05f0f16d49bc3ba6\", element=\"0.9924676233325564-69\")>, <selenium.webdriver.remote.webelement.WebElement (session=\"99744e3a3ed6df7c05f0f16d49bc3ba6\", element=\"0.9924676233325564-70\")>, <selenium.webdriver.remote.webelement.WebElement (session=\"99744e3a3ed6df7c05f0f16d49bc3ba6\", element=\"0.9924676233325564-71\")>, <selenium.webdriver.remote.webelement.WebElement (session=\"99744e3a3ed6df7c05f0f16d49bc3ba6\", element=\"0.9924676233325564-72\")>, <selenium.webdriver.remote.webelement.WebElement (session=\"99744e3a3ed6df7c05f0f16d49bc3ba6\", element=\"0.9924676233325564-73\")>, <selenium.webdriver.remote.webelement.WebElement (session=\"99744e3a3ed6df7c05f0f16d49bc3ba6\", element=\"0.9924676233325564-74\")>]\n"
     ]
    }
   ],
   "source": [
    "# Using selenium to get the list of all image urls\n",
    "from selenium import webdriver\n",
    "options = webdriver.ChromeOptions()\n",
    "options.add_argument('--ignore-certificate-errors')\n",
    "options.add_argument(\"--test-type\")\n",
    "\n",
    "# Creating a driver\n",
    "driver = webdriver.Chrome()\n",
    "url = (\"https://www.jpl.nasa.gov/spaceimages/?search=&category=Mars\")\n",
    "driver.get(url)\n",
    "\n",
    "# Getting all the images urls by looping through them\n",
    "images = driver.find_elements_by_tag_name('img')\n",
    "images_list = []\n",
    "for image in images:\n",
    "    print(image.get_attribute('src'))\n",
    "    images_list.append(image)\n",
    "\n",
    "driver.close()\n",
    "\n",
    "print(images_list)"
   ]
  },
  {
   "cell_type": "code",
   "execution_count": 20,
   "metadata": {},
   "outputs": [],
   "source": [
    "# now garb only one image url\n",
    "# provide url and visit the page throught the browser\n",
    "url = \"https://www.jpl.nasa.gov/spaceimages/?search=&category=Mars\"\n",
    "\n",
    "browser.visit(url)"
   ]
  },
  {
   "cell_type": "code",
   "execution_count": 21,
   "metadata": {},
   "outputs": [],
   "source": [
    "# click on full mage button to get to the image url\n",
    "browser.click_link_by_partial_text('FULL IMAGE')\n",
    "time.sleep(3)\n",
    "\n",
    "browser.click_link_by_partial_text('more info')\n",
    "time.sleep(3)"
   ]
  },
  {
   "cell_type": "code",
   "execution_count": 22,
   "metadata": {},
   "outputs": [],
   "source": [
    "# defien htlm and parse it out with BS\n",
    "html = browser.html\n",
    "soup = BeautifulSoup(html, 'html.parser')"
   ]
  },
  {
   "cell_type": "code",
   "execution_count": 27,
   "metadata": {},
   "outputs": [
    {
     "name": "stdout",
     "output_type": "stream",
     "text": [
      "https://www.jpl.nasa.gov/spaceimages/images/largesize/PIA17172_hires.jpg\n"
     ]
    }
   ],
   "source": [
    "# path to image \n",
    "png_path = soup.find('figure', class_='lede').find('a').find('img')['src']\n",
    "\n",
    "# define base_url\n",
    "base_url = \"https://www.jpl.nasa.gov\"\n",
    "\n",
    "# constract the image url and store it in a variable \n",
    "featured_image_url = base_url + png_path\n",
    "print(featured_image_url)"
   ]
  },
  {
   "cell_type": "markdown",
   "metadata": {},
   "source": [
    "                                              Part III\n",
    "    \n",
    "                                            Mars Weather\n",
    "                                            \n",
    "                         Get the latest weather forecast from Twitter Account "
   ]
  },
  {
   "cell_type": "code",
   "execution_count": 28,
   "metadata": {},
   "outputs": [
    {
     "name": "stdout",
     "output_type": "stream",
     "text": [
      "/usr/local/bin/chromedriver\r\n"
     ]
    }
   ],
   "source": [
    "url = (\"https://twitter.com/marswxreport?lang=en\")\n",
    "# scraping through Browser, creating a path\n",
    "!which chromedriver\n",
    "executable_path = {'executable_path': '/usr/local/bin/chromedriver'}\n",
    "browser = Browser('chrome', **executable_path, headless=False)\n",
    "# adding soup \n",
    "browser.visit(url)\n",
    "soup_html = browser.html\n",
    "soup = BeautifulSoup(soup_html, 'html.parser')"
   ]
  },
  {
   "cell_type": "code",
   "execution_count": null,
   "metadata": {},
   "outputs": [],
   "source": [
    "# Pretty print to get the HTML \n",
    "print(soup.prettify())"
   ]
  },
  {
   "cell_type": "code",
   "execution_count": 32,
   "metadata": {},
   "outputs": [
    {
     "name": "stdout",
     "output_type": "stream",
     "text": [
      "InSight sol 158 (2019-05-07) low -99.7ºC (-147.5ºF) high -21.8ºC (-7.2ºF)\n",
      "winds from the SSE at 4.8 m/s (10.7 mph) gusting to 13.6 m/s (30.4 mph)\n",
      "pressure at 7.50 \n"
     ]
    }
   ],
   "source": [
    "# Searching for weather forecast (the latest weather forecast) # ~~how to get rid of hPapic.twitter.com/Sn17diwg2t ???\n",
    "weather_results = soup.find('p', class_=\"TweetTextSize TweetTextSize--normal js-tweet-text tweet-text\").text.strip()\n",
    "weather_results = weather_results.split(\"hPapic.twitter.com/8SrPjAhpGZ\")[0]\n",
    "print(weather_results)"
   ]
  },
  {
   "cell_type": "markdown",
   "metadata": {},
   "source": [
    "                                                Part IV\n",
    "\n",
    "                                               Mars Facts\n",
    "\n",
    "                            Scraping the table containing facts about the planet \n",
    "\n",
    "                           Use Pandas to convert the data to a HTML table string."
   ]
  },
  {
   "cell_type": "code",
   "execution_count": null,
   "metadata": {},
   "outputs": [],
   "source": [
    "# Get the url and read in html file \n",
    "url = ('https://space-facts.com/mars/')\n",
    "raw_table = pd.read_html(url)\n",
    "raw_table"
   ]
  },
  {
   "cell_type": "code",
   "execution_count": null,
   "metadata": {},
   "outputs": [],
   "source": [
    "# Converitng to the DataFrame for cleaner look, assigning column names\n",
    "mars_facts_df = raw_table[0]\n",
    "mars_facts_df.columns = ['Parameters', 'Values']\n",
    "mars_facts_df"
   ]
  },
  {
   "cell_type": "code",
   "execution_count": null,
   "metadata": {},
   "outputs": [],
   "source": [
    "# Converting the table to html format\n",
    "html_mars_table = mars_facts_df.to_html()\n",
    "html_mars_table"
   ]
  },
  {
   "cell_type": "markdown",
   "metadata": {},
   "source": [
    "                                                   Part V\n",
    "                                        \n",
    "                                              Mars Hemispheres\n",
    "\n",
    "\n",
    "* You will need to click each of the links to the hemispheres in order to find the image url to the full resolution image.\n",
    "\n",
    "* Save both the image url string for the full resolution hemisphere image, and the Hemisphere title containing the hemisphere name. Use a Python dictionary to store the data using the keys `img_url` and `title`.\n",
    "\n",
    "* Append the dictionary with the image url string and the hemisphere title to a list. This list will contain one dictionary for each hemisphere.\n",
    "\n",
    "```python\n",
    "# Example:\n",
    "hemisphere_image_urls = [\n",
    "    {\"title\": \"Valles Marineris Hemisphere\", \"img_url\": \"...\"},\n",
    "    {\"title\": \"Cerberus Hemisphere\", \"img_url\": \"...\"},\n",
    "    {\"title\": \"Schiaparelli Hemisphere\", \"img_url\": \"...\"},\n",
    "    {\"title\": \"Syrtis Major Hemisphere\", \"img_url\": \"...\"},\n",
    "]\n",
    "```"
   ]
  },
  {
   "cell_type": "code",
   "execution_count": null,
   "metadata": {},
   "outputs": [],
   "source": [
    "# Get url and visit through the browser\n",
    "url = \"https://astrogeology.usgs.gov/search/results?q=hemisphere+enhanced&k1=target&v1=Mars\"\n",
    "# visit url throught the browser\n",
    "browser.visit(url)"
   ]
  },
  {
   "cell_type": "code",
   "execution_count": null,
   "metadata": {},
   "outputs": [],
   "source": [
    "# Reding html from browser\n",
    "html = browser.html\n",
    "# saving the result in soup object\n",
    "soup = BeautifulSoup(html, 'html.parser')"
   ]
  },
  {
   "cell_type": "code",
   "execution_count": null,
   "metadata": {},
   "outputs": [],
   "source": [
    "# Creating an empty list to store the list of dictionaries\n",
    "hemisphere_image_urls = []\n",
    "\n",
    "# Find the data to loop through\n",
    "results = soup.find_all('div', class_ = 'item')\n",
    "\n",
    "# Assign base url after checking the image url\n",
    "base_url = 'https://astrogeology.usgs.gov/'\n",
    "\n",
    "#loop through each result to extract the title and url to each image\n",
    "for result in results:\n",
    "    title = result.find('h3').text\n",
    "    \n",
    "    # point to the link for the next page\n",
    "    link = result.find('a', class_='itemLink')['href']\n",
    "    \n",
    "    # need to tell bowser to go to the link\n",
    "    browser.visit(base_url + link)\n",
    "    html = browser.html  # reads an html\n",
    "    soup = BeautifulSoup(html, 'html.parser')\n",
    "    \n",
    "    #grabbing the whole img url\n",
    "    img_url = soup.find('img', class_='wide-image')['src']\n",
    "    final_url = base_url + img_url\n",
    "    \n",
    "    # adding the dictionary to the list\n",
    "    hemisphere_image_urls.append({'Title':title, \"URL\": final_url})\n",
    "\n",
    "hemisphere_image_urls   "
   ]
  }
 ],
 "metadata": {
  "kernelspec": {
   "display_name": "Python 3",
   "language": "python",
   "name": "python3"
  },
  "language_info": {
   "codemirror_mode": {
    "name": "ipython",
    "version": 3
   },
   "file_extension": ".py",
   "mimetype": "text/x-python",
   "name": "python",
   "nbconvert_exporter": "python",
   "pygments_lexer": "ipython3",
   "version": "3.7.2"
  }
 },
 "nbformat": 4,
 "nbformat_minor": 2
}
