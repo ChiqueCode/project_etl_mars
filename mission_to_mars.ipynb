{
 "cells": [
  {
   "cell_type": "markdown",
   "metadata": {},
   "source": [
    "                                         NASA MARS NEWS\n",
    "                                            \n",
    "                                            Part I\n",
    "                                            \n",
    "                               Scraping the news title and paragraph"
   ]
  },
  {
   "cell_type": "code",
   "execution_count": 1,
   "metadata": {},
   "outputs": [],
   "source": [
    "# Dependancies\n",
    "import pandas as pd\n",
    "import requests\n",
    "from bs4 import BeautifulSoup\n",
    "from splinter import Browser\n",
    "import time"
   ]
  },
  {
   "cell_type": "code",
   "execution_count": 2,
   "metadata": {},
   "outputs": [
    {
     "name": "stdout",
     "output_type": "stream",
     "text": [
      "/usr/local/bin/chromedriver\r\n"
     ]
    }
   ],
   "source": [
    "# scraping through Browser, creating a path\n",
    "!which chromedriver\n",
    "executable_path = {'executable_path': '/usr/local/bin/chromedriver'}\n",
    "browser = Browser('chrome', **executable_path, headless=False)"
   ]
  },
  {
   "cell_type": "code",
   "execution_count": 3,
   "metadata": {},
   "outputs": [],
   "source": [
    "# provide an url\n",
    "url ='https://mars.nasa.gov/news/'\n",
    "\n",
    "# visit url\n",
    "browser.visit(url)\n",
    "# grab html form our browser\n",
    "html = browser.html\n",
    "# parse it out with the BeautifulSoup and save it as a soup object\n",
    "soup = BeautifulSoup(html, 'html.parser')"
   ]
  },
  {
   "cell_type": "code",
   "execution_count": 4,
   "metadata": {},
   "outputs": [],
   "source": [
    "# after pretty print get the results for news_title\n",
    "results = soup.find_all('div', class_=\"content_title\") \n",
    "# print(results)"
   ]
  },
  {
   "cell_type": "code",
   "execution_count": 5,
   "metadata": {},
   "outputs": [
    {
     "data": {
      "text/plain": [
       "'For InSight, Dust Cleanings Will Yield New Science'"
      ]
     },
     "execution_count": 5,
     "metadata": {},
     "output_type": "execute_result"
    }
   ],
   "source": [
    "# scrape the text from results\n",
    "news_title = results[0].a.text.strip()\n",
    "news_title"
   ]
  },
  {
   "cell_type": "code",
   "execution_count": 6,
   "metadata": {},
   "outputs": [
    {
     "name": "stdout",
     "output_type": "stream",
     "text": [
      "Wind can be crucial to clearing dust from spacecraft solar panels on Mars. With InSight's meteorological sensors, scientists get their first measurements of wind and dust interacting \"live\" on the Martian surface.  \n"
     ]
    }
   ],
   "source": [
    "# Paragraph results\n",
    "news_paragraph = soup.find(\"div\", class_= \"rollover_description_inner\").text\n",
    "print(news_paragraph)"
   ]
  },
  {
   "cell_type": "markdown",
   "metadata": {},
   "source": [
    "                                              Part II\n",
    "                                             \n",
    "                         Using Selenium to extract the list of URL for images\n",
    "                             \n",
    "                                    Grabbing only one image URL\n"
   ]
  },
  {
   "cell_type": "code",
   "execution_count": 7,
   "metadata": {},
   "outputs": [
    {
     "name": "stdout",
     "output_type": "stream",
     "text": [
      "https://www.jpl.nasa.gov/assets/images/logo_nasa_trio_black@2x.png\n",
      "https://www.jpl.nasa.gov/assets/images/logo_nasa_trio_black@2x.png\n",
      "https://www.jpl.nasa.gov/assets/images/overlay-arrow.png\n",
      "https://www.jpl.nasa.gov/spaceimages/images/wallpaper/PIA23208-640x350.jpg\n",
      "https://www.jpl.nasa.gov/assets/images/overlay-arrow.png\n",
      "https://www.jpl.nasa.gov/spaceimages/images/wallpaper/PIA23207-640x350.jpg\n",
      "https://www.jpl.nasa.gov/assets/images/overlay-arrow.png\n",
      "https://www.jpl.nasa.gov/spaceimages/images/wallpaper/PIA23206-640x350.jpg\n",
      "https://www.jpl.nasa.gov/assets/images/overlay-arrow.png\n",
      "https://www.jpl.nasa.gov/spaceimages/images/wallpaper/PIA23205-640x350.jpg\n",
      "https://www.jpl.nasa.gov/assets/images/overlay-arrow.png\n",
      "https://www.jpl.nasa.gov/spaceimages/images/wallpaper/PIA23204-640x350.jpg\n",
      "https://www.jpl.nasa.gov/assets/images/overlay-arrow.png\n",
      "https://www.jpl.nasa.gov/spaceimages/images/wallpaper/PIA23200-640x350.jpg\n",
      "https://www.jpl.nasa.gov/assets/images/overlay-arrow.png\n",
      "https://www.jpl.nasa.gov/spaceimages/images/wallpaper/PIA23199-640x350.jpg\n",
      "https://www.jpl.nasa.gov/assets/images/overlay-arrow.png\n",
      "https://www.jpl.nasa.gov/spaceimages/images/wallpaper/PIA23198-640x350.jpg\n",
      "https://www.jpl.nasa.gov/assets/images/overlay-arrow.png\n",
      "https://www.jpl.nasa.gov/spaceimages/images/wallpaper/PIA23203-640x350.jpg\n",
      "https://www.jpl.nasa.gov/assets/images/overlay-arrow.png\n",
      "https://www.jpl.nasa.gov/spaceimages/images/wallpaper/PIA23191-640x350.jpg\n",
      "https://www.jpl.nasa.gov/assets/images/overlay-arrow.png\n",
      "https://www.jpl.nasa.gov/spaceimages/images/wallpaper/PIA23202-640x350.jpg\n",
      "https://www.jpl.nasa.gov/assets/images/overlay-arrow.png\n",
      "https://www.jpl.nasa.gov/spaceimages/images/wallpaper/PIA23201-640x350.jpg\n",
      "https://www.jpl.nasa.gov/assets/images/overlay-arrow.png\n",
      "https://www.jpl.nasa.gov/spaceimages/images/wallpaper/PIA23180-640x350.jpg\n",
      "https://www.jpl.nasa.gov/assets/images/overlay-arrow.png\n",
      "https://www.jpl.nasa.gov/spaceimages/images/wallpaper/PIA23189-640x350.jpg\n",
      "https://www.jpl.nasa.gov/assets/images/overlay-arrow.png\n",
      "https://www.jpl.nasa.gov/spaceimages/images/wallpaper/PIA23188-640x350.jpg\n",
      "https://www.jpl.nasa.gov/assets/images/overlay-arrow.png\n",
      "https://www.jpl.nasa.gov/spaceimages/images/wallpaper/PIA23187-640x350.jpg\n",
      "https://www.jpl.nasa.gov/assets/images/overlay-arrow.png\n",
      "https://www.jpl.nasa.gov/spaceimages/images/wallpaper/PIA23178-640x350.jpg\n",
      "https://www.jpl.nasa.gov/assets/images/overlay-arrow.png\n",
      "https://www.jpl.nasa.gov/spaceimages/images/wallpaper/PIA23186-640x350.jpg\n",
      "https://www.jpl.nasa.gov/assets/images/overlay-arrow.png\n",
      "https://www.jpl.nasa.gov/spaceimages/images/wallpaper/PIA23177-640x350.jpg\n",
      "https://www.jpl.nasa.gov/assets/images/overlay-arrow.png\n",
      "https://www.jpl.nasa.gov/spaceimages/images/wallpaper/PIA23176-640x350.jpg\n",
      "https://www.jpl.nasa.gov/assets/images/overlay-arrow.png\n",
      "https://www.jpl.nasa.gov/spaceimages/images/wallpaper/PIA23120-640x350.jpg\n",
      "https://www.jpl.nasa.gov/assets/images/overlay-arrow.png\n",
      "https://www.jpl.nasa.gov/spaceimages/images/wallpaper/PIA23119-640x350.jpg\n",
      "https://www.jpl.nasa.gov/assets/images/overlay-arrow.png\n",
      "https://www.jpl.nasa.gov/spaceimages/images/wallpaper/PIA23116-640x350.jpg\n",
      "https://www.jpl.nasa.gov/assets/images/overlay-arrow.png\n",
      "https://www.jpl.nasa.gov/spaceimages/images/wallpaper/PIA23115-640x350.jpg\n",
      "https://www.jpl.nasa.gov/assets/images/overlay-arrow.png\n",
      "https://www.jpl.nasa.gov/spaceimages/images/wallpaper/PIA23114-640x350.jpg\n",
      "https://www.jpl.nasa.gov/assets/images/overlay-arrow.png\n",
      "https://www.jpl.nasa.gov/spaceimages/images/wallpaper/PIA23184-640x350.jpg\n",
      "https://www.jpl.nasa.gov/assets/images/overlay-arrow.png\n",
      "https://www.jpl.nasa.gov/spaceimages/images/wallpaper/PIA23183-640x350.jpg\n",
      "https://www.jpl.nasa.gov/assets/images/overlay-arrow.png\n",
      "https://www.jpl.nasa.gov/spaceimages/images/wallpaper/PIA23112-640x350.jpg\n",
      "https://www.jpl.nasa.gov/assets/images/overlay-arrow.png\n",
      "https://www.jpl.nasa.gov/spaceimages/images/wallpaper/PIA23111-640x350.jpg\n",
      "https://www.jpl.nasa.gov/assets/images/overlay-arrow.png\n",
      "https://www.jpl.nasa.gov/spaceimages/images/wallpaper/PIA23140-640x350.jpg\n",
      "https://www.jpl.nasa.gov/assets/images/overlay-arrow.png\n",
      "https://www.jpl.nasa.gov/spaceimages/images/wallpaper/PIA23138-640x350.jpg\n",
      "https://www.jpl.nasa.gov/assets/images/overlay-arrow.png\n",
      "https://www.jpl.nasa.gov/spaceimages/images/wallpaper/PIA23137-640x350.jpg\n",
      "https://www.jpl.nasa.gov/assets/images/content/tmp/images/jpl_photojournal(3x1).jpg\n",
      "https://www.jpl.nasa.gov/assets/images/content/tmp/images/nasa_images(3x1).jpg\n",
      "https://www.jpl.nasa.gov/assets/images/overlay-arrow.png\n",
      "https://imagecache.jpl.nasa.gov/images/640x350/PIA23205-16-640x350.jpg\n",
      "https://www.jpl.nasa.gov/assets/images/overlay-arrow.png\n",
      "https://imagecache.jpl.nasa.gov/images/640x350/PIA23203_main_slider_after-16-640x350.jpg\n",
      "https://www.jpl.nasa.gov/assets/images/overlay-arrow.png\n",
      "https://imagecache.jpl.nasa.gov/images/640x350/PIA23201_raw-16-640x350.jpg\n",
      "[<selenium.webdriver.remote.webelement.WebElement (session=\"6dc9c2dd5e563a51cc3c9b86aebb29a3\", element=\"0.5775289526089282-1\")>, <selenium.webdriver.remote.webelement.WebElement (session=\"6dc9c2dd5e563a51cc3c9b86aebb29a3\", element=\"0.5775289526089282-2\")>, <selenium.webdriver.remote.webelement.WebElement (session=\"6dc9c2dd5e563a51cc3c9b86aebb29a3\", element=\"0.5775289526089282-3\")>, <selenium.webdriver.remote.webelement.WebElement (session=\"6dc9c2dd5e563a51cc3c9b86aebb29a3\", element=\"0.5775289526089282-4\")>, <selenium.webdriver.remote.webelement.WebElement (session=\"6dc9c2dd5e563a51cc3c9b86aebb29a3\", element=\"0.5775289526089282-5\")>, <selenium.webdriver.remote.webelement.WebElement (session=\"6dc9c2dd5e563a51cc3c9b86aebb29a3\", element=\"0.5775289526089282-6\")>, <selenium.webdriver.remote.webelement.WebElement (session=\"6dc9c2dd5e563a51cc3c9b86aebb29a3\", element=\"0.5775289526089282-7\")>, <selenium.webdriver.remote.webelement.WebElement (session=\"6dc9c2dd5e563a51cc3c9b86aebb29a3\", element=\"0.5775289526089282-8\")>, <selenium.webdriver.remote.webelement.WebElement (session=\"6dc9c2dd5e563a51cc3c9b86aebb29a3\", element=\"0.5775289526089282-9\")>, <selenium.webdriver.remote.webelement.WebElement (session=\"6dc9c2dd5e563a51cc3c9b86aebb29a3\", element=\"0.5775289526089282-10\")>, <selenium.webdriver.remote.webelement.WebElement (session=\"6dc9c2dd5e563a51cc3c9b86aebb29a3\", element=\"0.5775289526089282-11\")>, <selenium.webdriver.remote.webelement.WebElement (session=\"6dc9c2dd5e563a51cc3c9b86aebb29a3\", element=\"0.5775289526089282-12\")>, <selenium.webdriver.remote.webelement.WebElement (session=\"6dc9c2dd5e563a51cc3c9b86aebb29a3\", element=\"0.5775289526089282-13\")>, <selenium.webdriver.remote.webelement.WebElement (session=\"6dc9c2dd5e563a51cc3c9b86aebb29a3\", element=\"0.5775289526089282-14\")>, <selenium.webdriver.remote.webelement.WebElement (session=\"6dc9c2dd5e563a51cc3c9b86aebb29a3\", element=\"0.5775289526089282-15\")>, <selenium.webdriver.remote.webelement.WebElement (session=\"6dc9c2dd5e563a51cc3c9b86aebb29a3\", element=\"0.5775289526089282-16\")>, <selenium.webdriver.remote.webelement.WebElement (session=\"6dc9c2dd5e563a51cc3c9b86aebb29a3\", element=\"0.5775289526089282-17\")>, <selenium.webdriver.remote.webelement.WebElement (session=\"6dc9c2dd5e563a51cc3c9b86aebb29a3\", element=\"0.5775289526089282-18\")>, <selenium.webdriver.remote.webelement.WebElement (session=\"6dc9c2dd5e563a51cc3c9b86aebb29a3\", element=\"0.5775289526089282-19\")>, <selenium.webdriver.remote.webelement.WebElement (session=\"6dc9c2dd5e563a51cc3c9b86aebb29a3\", element=\"0.5775289526089282-20\")>, <selenium.webdriver.remote.webelement.WebElement (session=\"6dc9c2dd5e563a51cc3c9b86aebb29a3\", element=\"0.5775289526089282-21\")>, <selenium.webdriver.remote.webelement.WebElement (session=\"6dc9c2dd5e563a51cc3c9b86aebb29a3\", element=\"0.5775289526089282-22\")>, <selenium.webdriver.remote.webelement.WebElement (session=\"6dc9c2dd5e563a51cc3c9b86aebb29a3\", element=\"0.5775289526089282-23\")>, <selenium.webdriver.remote.webelement.WebElement (session=\"6dc9c2dd5e563a51cc3c9b86aebb29a3\", element=\"0.5775289526089282-24\")>, <selenium.webdriver.remote.webelement.WebElement (session=\"6dc9c2dd5e563a51cc3c9b86aebb29a3\", element=\"0.5775289526089282-25\")>, <selenium.webdriver.remote.webelement.WebElement (session=\"6dc9c2dd5e563a51cc3c9b86aebb29a3\", element=\"0.5775289526089282-26\")>, <selenium.webdriver.remote.webelement.WebElement (session=\"6dc9c2dd5e563a51cc3c9b86aebb29a3\", element=\"0.5775289526089282-27\")>, <selenium.webdriver.remote.webelement.WebElement (session=\"6dc9c2dd5e563a51cc3c9b86aebb29a3\", element=\"0.5775289526089282-28\")>, <selenium.webdriver.remote.webelement.WebElement (session=\"6dc9c2dd5e563a51cc3c9b86aebb29a3\", element=\"0.5775289526089282-29\")>, <selenium.webdriver.remote.webelement.WebElement (session=\"6dc9c2dd5e563a51cc3c9b86aebb29a3\", element=\"0.5775289526089282-30\")>, <selenium.webdriver.remote.webelement.WebElement (session=\"6dc9c2dd5e563a51cc3c9b86aebb29a3\", element=\"0.5775289526089282-31\")>, <selenium.webdriver.remote.webelement.WebElement (session=\"6dc9c2dd5e563a51cc3c9b86aebb29a3\", element=\"0.5775289526089282-32\")>, <selenium.webdriver.remote.webelement.WebElement (session=\"6dc9c2dd5e563a51cc3c9b86aebb29a3\", element=\"0.5775289526089282-33\")>, <selenium.webdriver.remote.webelement.WebElement (session=\"6dc9c2dd5e563a51cc3c9b86aebb29a3\", element=\"0.5775289526089282-34\")>, <selenium.webdriver.remote.webelement.WebElement (session=\"6dc9c2dd5e563a51cc3c9b86aebb29a3\", element=\"0.5775289526089282-35\")>, <selenium.webdriver.remote.webelement.WebElement (session=\"6dc9c2dd5e563a51cc3c9b86aebb29a3\", element=\"0.5775289526089282-36\")>, <selenium.webdriver.remote.webelement.WebElement (session=\"6dc9c2dd5e563a51cc3c9b86aebb29a3\", element=\"0.5775289526089282-37\")>, <selenium.webdriver.remote.webelement.WebElement (session=\"6dc9c2dd5e563a51cc3c9b86aebb29a3\", element=\"0.5775289526089282-38\")>, <selenium.webdriver.remote.webelement.WebElement (session=\"6dc9c2dd5e563a51cc3c9b86aebb29a3\", element=\"0.5775289526089282-39\")>, <selenium.webdriver.remote.webelement.WebElement (session=\"6dc9c2dd5e563a51cc3c9b86aebb29a3\", element=\"0.5775289526089282-40\")>, <selenium.webdriver.remote.webelement.WebElement (session=\"6dc9c2dd5e563a51cc3c9b86aebb29a3\", element=\"0.5775289526089282-41\")>, <selenium.webdriver.remote.webelement.WebElement (session=\"6dc9c2dd5e563a51cc3c9b86aebb29a3\", element=\"0.5775289526089282-42\")>, <selenium.webdriver.remote.webelement.WebElement (session=\"6dc9c2dd5e563a51cc3c9b86aebb29a3\", element=\"0.5775289526089282-43\")>, <selenium.webdriver.remote.webelement.WebElement (session=\"6dc9c2dd5e563a51cc3c9b86aebb29a3\", element=\"0.5775289526089282-44\")>, <selenium.webdriver.remote.webelement.WebElement (session=\"6dc9c2dd5e563a51cc3c9b86aebb29a3\", element=\"0.5775289526089282-45\")>, <selenium.webdriver.remote.webelement.WebElement (session=\"6dc9c2dd5e563a51cc3c9b86aebb29a3\", element=\"0.5775289526089282-46\")>, <selenium.webdriver.remote.webelement.WebElement (session=\"6dc9c2dd5e563a51cc3c9b86aebb29a3\", element=\"0.5775289526089282-47\")>, <selenium.webdriver.remote.webelement.WebElement (session=\"6dc9c2dd5e563a51cc3c9b86aebb29a3\", element=\"0.5775289526089282-48\")>, <selenium.webdriver.remote.webelement.WebElement (session=\"6dc9c2dd5e563a51cc3c9b86aebb29a3\", element=\"0.5775289526089282-49\")>, <selenium.webdriver.remote.webelement.WebElement (session=\"6dc9c2dd5e563a51cc3c9b86aebb29a3\", element=\"0.5775289526089282-50\")>, <selenium.webdriver.remote.webelement.WebElement (session=\"6dc9c2dd5e563a51cc3c9b86aebb29a3\", element=\"0.5775289526089282-51\")>, <selenium.webdriver.remote.webelement.WebElement (session=\"6dc9c2dd5e563a51cc3c9b86aebb29a3\", element=\"0.5775289526089282-52\")>, <selenium.webdriver.remote.webelement.WebElement (session=\"6dc9c2dd5e563a51cc3c9b86aebb29a3\", element=\"0.5775289526089282-53\")>, <selenium.webdriver.remote.webelement.WebElement (session=\"6dc9c2dd5e563a51cc3c9b86aebb29a3\", element=\"0.5775289526089282-54\")>, <selenium.webdriver.remote.webelement.WebElement (session=\"6dc9c2dd5e563a51cc3c9b86aebb29a3\", element=\"0.5775289526089282-55\")>, <selenium.webdriver.remote.webelement.WebElement (session=\"6dc9c2dd5e563a51cc3c9b86aebb29a3\", element=\"0.5775289526089282-56\")>, <selenium.webdriver.remote.webelement.WebElement (session=\"6dc9c2dd5e563a51cc3c9b86aebb29a3\", element=\"0.5775289526089282-57\")>, <selenium.webdriver.remote.webelement.WebElement (session=\"6dc9c2dd5e563a51cc3c9b86aebb29a3\", element=\"0.5775289526089282-58\")>, <selenium.webdriver.remote.webelement.WebElement (session=\"6dc9c2dd5e563a51cc3c9b86aebb29a3\", element=\"0.5775289526089282-59\")>, <selenium.webdriver.remote.webelement.WebElement (session=\"6dc9c2dd5e563a51cc3c9b86aebb29a3\", element=\"0.5775289526089282-60\")>, <selenium.webdriver.remote.webelement.WebElement (session=\"6dc9c2dd5e563a51cc3c9b86aebb29a3\", element=\"0.5775289526089282-61\")>, <selenium.webdriver.remote.webelement.WebElement (session=\"6dc9c2dd5e563a51cc3c9b86aebb29a3\", element=\"0.5775289526089282-62\")>, <selenium.webdriver.remote.webelement.WebElement (session=\"6dc9c2dd5e563a51cc3c9b86aebb29a3\", element=\"0.5775289526089282-63\")>, <selenium.webdriver.remote.webelement.WebElement (session=\"6dc9c2dd5e563a51cc3c9b86aebb29a3\", element=\"0.5775289526089282-64\")>, <selenium.webdriver.remote.webelement.WebElement (session=\"6dc9c2dd5e563a51cc3c9b86aebb29a3\", element=\"0.5775289526089282-65\")>, <selenium.webdriver.remote.webelement.WebElement (session=\"6dc9c2dd5e563a51cc3c9b86aebb29a3\", element=\"0.5775289526089282-66\")>, <selenium.webdriver.remote.webelement.WebElement (session=\"6dc9c2dd5e563a51cc3c9b86aebb29a3\", element=\"0.5775289526089282-67\")>, <selenium.webdriver.remote.webelement.WebElement (session=\"6dc9c2dd5e563a51cc3c9b86aebb29a3\", element=\"0.5775289526089282-68\")>, <selenium.webdriver.remote.webelement.WebElement (session=\"6dc9c2dd5e563a51cc3c9b86aebb29a3\", element=\"0.5775289526089282-69\")>, <selenium.webdriver.remote.webelement.WebElement (session=\"6dc9c2dd5e563a51cc3c9b86aebb29a3\", element=\"0.5775289526089282-70\")>, <selenium.webdriver.remote.webelement.WebElement (session=\"6dc9c2dd5e563a51cc3c9b86aebb29a3\", element=\"0.5775289526089282-71\")>, <selenium.webdriver.remote.webelement.WebElement (session=\"6dc9c2dd5e563a51cc3c9b86aebb29a3\", element=\"0.5775289526089282-72\")>, <selenium.webdriver.remote.webelement.WebElement (session=\"6dc9c2dd5e563a51cc3c9b86aebb29a3\", element=\"0.5775289526089282-73\")>, <selenium.webdriver.remote.webelement.WebElement (session=\"6dc9c2dd5e563a51cc3c9b86aebb29a3\", element=\"0.5775289526089282-74\")>]\n"
     ]
    }
   ],
   "source": [
    "# Using selenium to get the list of all image urls\n",
    "from selenium import webdriver\n",
    "options = webdriver.ChromeOptions()\n",
    "options.add_argument('--ignore-certificate-errors')\n",
    "options.add_argument(\"--test-type\")\n",
    "\n",
    "# Creating a driver\n",
    "driver = webdriver.Chrome()\n",
    "url = (\"https://www.jpl.nasa.gov/spaceimages/?search=&category=Mars\")\n",
    "driver.get(url)\n",
    "\n",
    "# Getting all the images urls by looping through them\n",
    "images = driver.find_elements_by_tag_name('img')\n",
    "images_list = []\n",
    "for image in images:\n",
    "    print(image.get_attribute('src'))\n",
    "    images_list.append(image)\n",
    "\n",
    "driver.close()\n",
    "\n",
    "print(images_list)"
   ]
  },
  {
   "cell_type": "code",
   "execution_count": 8,
   "metadata": {},
   "outputs": [],
   "source": [
    "# now garb only one image url\n",
    "# provide url and visit the page throught the browser\n",
    "url = \"https://www.jpl.nasa.gov/spaceimages/?search=&category=Mars\"\n",
    "\n",
    "browser.visit(url)"
   ]
  },
  {
   "cell_type": "code",
   "execution_count": 9,
   "metadata": {},
   "outputs": [],
   "source": [
    "# click on full mage button to get to the image url\n",
    "browser.click_link_by_partial_text('FULL IMAGE')\n",
    "time.sleep(3)\n",
    "\n",
    "browser.click_link_by_partial_text('more info')\n",
    "time.sleep(3)"
   ]
  },
  {
   "cell_type": "code",
   "execution_count": 10,
   "metadata": {},
   "outputs": [],
   "source": [
    "# defien htlm and parse it out with BS\n",
    "html = browser.html\n",
    "soup = BeautifulSoup(html, 'html.parser')"
   ]
  },
  {
   "cell_type": "code",
   "execution_count": 11,
   "metadata": {},
   "outputs": [
    {
     "name": "stdout",
     "output_type": "stream",
     "text": [
      "https://www.jpl.nasa.gov/spaceimages/images/largesize/PIA00069_hires.jpg\n"
     ]
    }
   ],
   "source": [
    "# path to image \n",
    "png_path = soup.find('figure', class_='lede').find('a').find('img')['src']\n",
    "\n",
    "# define base_url\n",
    "base_url = \"https://www.jpl.nasa.gov\"\n",
    "\n",
    "# constract the image url and store it in a variable \n",
    "featured_image_url = base_url + png_path\n",
    "print(featured_image_url)"
   ]
  },
  {
   "cell_type": "markdown",
   "metadata": {},
   "source": [
    "                                              Part III\n",
    "    \n",
    "                                            Mars Weather\n",
    "                                            \n",
    "                         Get the latest weather forecast from Twitter Account "
   ]
  },
  {
   "cell_type": "code",
   "execution_count": 12,
   "metadata": {},
   "outputs": [
    {
     "name": "stdout",
     "output_type": "stream",
     "text": [
      "/usr/local/bin/chromedriver\r\n"
     ]
    }
   ],
   "source": [
    "url = (\"https://twitter.com/marswxreport?lang=en\")\n",
    "# scraping through Browser, creating a path\n",
    "!which chromedriver\n",
    "executable_path = {'executable_path': '/usr/local/bin/chromedriver'}\n",
    "browser = Browser('chrome', **executable_path, headless=False)\n",
    "# adding soup \n",
    "browser.visit(url)\n",
    "soup_html = browser.html\n",
    "soup = BeautifulSoup(soup_html, 'html.parser')"
   ]
  },
  {
   "cell_type": "code",
   "execution_count": 27,
   "metadata": {},
   "outputs": [],
   "source": [
    "# Pretty print to get the HTML \n",
    "# print(soup.prettify())"
   ]
  },
  {
   "cell_type": "code",
   "execution_count": 14,
   "metadata": {},
   "outputs": [
    {
     "name": "stdout",
     "output_type": "stream",
     "text": [
      "InSight sol 159 (2019-05-08) low -100.3ºC (-148.5ºF) high -21.6ºC (-6.9ºF)\n",
      "winds from the SW at 4.6 m/s (10.4 mph) gusting to 15.3 m/s (34.2 mph)\n",
      "pressure at 7.40 hPapic.twitter.com/rg5UKl8dLc\n"
     ]
    }
   ],
   "source": [
    "# Searching for weather forecast (the latest weather forecast) # ~~how to get rid of hPapic.twitter.com/Sn17diwg2t ???\n",
    "weather_results = soup.find('p', class_=\"TweetTextSize TweetTextSize--normal js-tweet-text tweet-text\").text.strip()\n",
    "weather_results = weather_results.split(\"hPapic.twitter.com/8SrPjAhpGZ\")[0]\n",
    "print(weather_results)"
   ]
  },
  {
   "cell_type": "markdown",
   "metadata": {},
   "source": [
    "                                                Part IV\n",
    "\n",
    "                                               Mars Facts\n",
    "\n",
    "                            Scraping the table containing facts about the planet \n",
    "\n",
    "                           Use Pandas to convert the data to a HTML table string."
   ]
  },
  {
   "cell_type": "code",
   "execution_count": 15,
   "metadata": {},
   "outputs": [
    {
     "data": {
      "text/plain": [
       "[                      0                              1\n",
       " 0  Equatorial Diameter:                       6,792 km\n",
       " 1       Polar Diameter:                       6,752 km\n",
       " 2                 Mass:  6.42 x 10^23 kg (10.7% Earth)\n",
       " 3                Moons:            2 (Phobos & Deimos)\n",
       " 4       Orbit Distance:       227,943,824 km (1.52 AU)\n",
       " 5         Orbit Period:           687 days (1.9 years)\n",
       " 6  Surface Temperature:                  -153 to 20 °C\n",
       " 7         First Record:              2nd millennium BC\n",
       " 8          Recorded By:           Egyptian astronomers]"
      ]
     },
     "execution_count": 15,
     "metadata": {},
     "output_type": "execute_result"
    }
   ],
   "source": [
    "# Get the url and read in html file \n",
    "url = ('https://space-facts.com/mars/')\n",
    "raw_table = pd.read_html(url)\n",
    "raw_table"
   ]
  },
  {
   "cell_type": "code",
   "execution_count": 16,
   "metadata": {},
   "outputs": [
    {
     "data": {
      "text/html": [
       "<div>\n",
       "<style scoped>\n",
       "    .dataframe tbody tr th:only-of-type {\n",
       "        vertical-align: middle;\n",
       "    }\n",
       "\n",
       "    .dataframe tbody tr th {\n",
       "        vertical-align: top;\n",
       "    }\n",
       "\n",
       "    .dataframe thead th {\n",
       "        text-align: right;\n",
       "    }\n",
       "</style>\n",
       "<table border=\"1\" class=\"dataframe\">\n",
       "  <thead>\n",
       "    <tr style=\"text-align: right;\">\n",
       "      <th></th>\n",
       "      <th>Parameters</th>\n",
       "      <th>Values</th>\n",
       "    </tr>\n",
       "  </thead>\n",
       "  <tbody>\n",
       "    <tr>\n",
       "      <th>0</th>\n",
       "      <td>Equatorial Diameter:</td>\n",
       "      <td>6,792 km</td>\n",
       "    </tr>\n",
       "    <tr>\n",
       "      <th>1</th>\n",
       "      <td>Polar Diameter:</td>\n",
       "      <td>6,752 km</td>\n",
       "    </tr>\n",
       "    <tr>\n",
       "      <th>2</th>\n",
       "      <td>Mass:</td>\n",
       "      <td>6.42 x 10^23 kg (10.7% Earth)</td>\n",
       "    </tr>\n",
       "    <tr>\n",
       "      <th>3</th>\n",
       "      <td>Moons:</td>\n",
       "      <td>2 (Phobos &amp; Deimos)</td>\n",
       "    </tr>\n",
       "    <tr>\n",
       "      <th>4</th>\n",
       "      <td>Orbit Distance:</td>\n",
       "      <td>227,943,824 km (1.52 AU)</td>\n",
       "    </tr>\n",
       "    <tr>\n",
       "      <th>5</th>\n",
       "      <td>Orbit Period:</td>\n",
       "      <td>687 days (1.9 years)</td>\n",
       "    </tr>\n",
       "    <tr>\n",
       "      <th>6</th>\n",
       "      <td>Surface Temperature:</td>\n",
       "      <td>-153 to 20 °C</td>\n",
       "    </tr>\n",
       "    <tr>\n",
       "      <th>7</th>\n",
       "      <td>First Record:</td>\n",
       "      <td>2nd millennium BC</td>\n",
       "    </tr>\n",
       "    <tr>\n",
       "      <th>8</th>\n",
       "      <td>Recorded By:</td>\n",
       "      <td>Egyptian astronomers</td>\n",
       "    </tr>\n",
       "  </tbody>\n",
       "</table>\n",
       "</div>"
      ],
      "text/plain": [
       "             Parameters                         Values\n",
       "0  Equatorial Diameter:                       6,792 km\n",
       "1       Polar Diameter:                       6,752 km\n",
       "2                 Mass:  6.42 x 10^23 kg (10.7% Earth)\n",
       "3                Moons:            2 (Phobos & Deimos)\n",
       "4       Orbit Distance:       227,943,824 km (1.52 AU)\n",
       "5         Orbit Period:           687 days (1.9 years)\n",
       "6  Surface Temperature:                  -153 to 20 °C\n",
       "7         First Record:              2nd millennium BC\n",
       "8          Recorded By:           Egyptian astronomers"
      ]
     },
     "execution_count": 16,
     "metadata": {},
     "output_type": "execute_result"
    }
   ],
   "source": [
    "# Converitng to the DataFrame for cleaner look, assigning column names\n",
    "mars_facts_df = raw_table[0]\n",
    "mars_facts_df.columns = ['Parameters', 'Values']\n",
    "mars_facts_df"
   ]
  },
  {
   "cell_type": "code",
   "execution_count": 17,
   "metadata": {},
   "outputs": [
    {
     "data": {
      "text/plain": [
       "'<table border=\"1\" class=\"dataframe\">\\n  <thead>\\n    <tr style=\"text-align: right;\">\\n      <th></th>\\n      <th>Parameters</th>\\n      <th>Values</th>\\n    </tr>\\n  </thead>\\n  <tbody>\\n    <tr>\\n      <th>0</th>\\n      <td>Equatorial Diameter:</td>\\n      <td>6,792 km</td>\\n    </tr>\\n    <tr>\\n      <th>1</th>\\n      <td>Polar Diameter:</td>\\n      <td>6,752 km</td>\\n    </tr>\\n    <tr>\\n      <th>2</th>\\n      <td>Mass:</td>\\n      <td>6.42 x 10^23 kg (10.7% Earth)</td>\\n    </tr>\\n    <tr>\\n      <th>3</th>\\n      <td>Moons:</td>\\n      <td>2 (Phobos &amp; Deimos)</td>\\n    </tr>\\n    <tr>\\n      <th>4</th>\\n      <td>Orbit Distance:</td>\\n      <td>227,943,824 km (1.52 AU)</td>\\n    </tr>\\n    <tr>\\n      <th>5</th>\\n      <td>Orbit Period:</td>\\n      <td>687 days (1.9 years)</td>\\n    </tr>\\n    <tr>\\n      <th>6</th>\\n      <td>Surface Temperature:</td>\\n      <td>-153 to 20 °C</td>\\n    </tr>\\n    <tr>\\n      <th>7</th>\\n      <td>First Record:</td>\\n      <td>2nd millennium BC</td>\\n    </tr>\\n    <tr>\\n      <th>8</th>\\n      <td>Recorded By:</td>\\n      <td>Egyptian astronomers</td>\\n    </tr>\\n  </tbody>\\n</table>'"
      ]
     },
     "execution_count": 17,
     "metadata": {},
     "output_type": "execute_result"
    }
   ],
   "source": [
    "# Converting the table to html format\n",
    "html_mars_table = mars_facts_df.to_html()\n",
    "html_mars_table"
   ]
  },
  {
   "cell_type": "markdown",
   "metadata": {},
   "source": [
    "                                                   Part V\n",
    "                                        \n",
    "                                              Mars Hemispheres"
   ]
  },
  {
   "cell_type": "code",
   "execution_count": 23,
   "metadata": {},
   "outputs": [],
   "source": [
    "# Get url and visit through the browser\n",
    "url = \"https://astrogeology.usgs.gov/search/results?q=hemisphere+enhanced&k1=target&v1=Mars\"\n",
    "# visit url throught the browser\n",
    "browser.visit(url)"
   ]
  },
  {
   "cell_type": "code",
   "execution_count": 24,
   "metadata": {},
   "outputs": [],
   "source": [
    "# Reding html from browser\n",
    "html = browser.html\n",
    "# saving the result in soup object\n",
    "soup = BeautifulSoup(html, 'html.parser')"
   ]
  },
  {
   "cell_type": "code",
   "execution_count": 26,
   "metadata": {},
   "outputs": [
    {
     "data": {
      "text/plain": [
       "[{'Title': 'Cerberus Hemisphere Enhanced',\n",
       "  'URL': 'https://astrogeology.usgs.gov//cache/images/cfa62af2557222a02478f1fcd781d445_cerberus_enhanced.tif_full.jpg'},\n",
       " {'Title': 'Schiaparelli Hemisphere Enhanced',\n",
       "  'URL': 'https://astrogeology.usgs.gov//cache/images/3cdd1cbf5e0813bba925c9030d13b62e_schiaparelli_enhanced.tif_full.jpg'},\n",
       " {'Title': 'Syrtis Major Hemisphere Enhanced',\n",
       "  'URL': 'https://astrogeology.usgs.gov//cache/images/ae209b4e408bb6c3e67b6af38168cf28_syrtis_major_enhanced.tif_full.jpg'},\n",
       " {'Title': 'Valles Marineris Hemisphere Enhanced',\n",
       "  'URL': 'https://astrogeology.usgs.gov//cache/images/7cf2da4bf549ed01c17f206327be4db7_valles_marineris_enhanced.tif_full.jpg'}]"
      ]
     },
     "execution_count": 26,
     "metadata": {},
     "output_type": "execute_result"
    }
   ],
   "source": [
    "# Creating an empty list to store the list of dictionaries\n",
    "hemisphere_image_urls = []\n",
    "\n",
    "# Find the data to loop through\n",
    "results = soup.find_all('div', class_ = 'item')\n",
    "\n",
    "# Assign base url after checking the image url\n",
    "base_url = 'https://astrogeology.usgs.gov/'\n",
    "\n",
    "#loop through each result to extract the title and url to each image\n",
    "for result in results:\n",
    "    title = result.find('h3').text\n",
    "    \n",
    "    # point to the link for the next page\n",
    "    link = result.find('a', class_='itemLink')['href']\n",
    "    \n",
    "    # need to tell bowser to go to the link\n",
    "    browser.visit(base_url + link)\n",
    "    html = browser.html  # reads an html\n",
    "    soup = BeautifulSoup(html, 'html.parser')\n",
    "    \n",
    "    #grabbing the whole img url\n",
    "    img_url = soup.find('img', class_='wide-image')['src']\n",
    "    final_url = base_url + img_url\n",
    "    \n",
    "    # adding the dictionary to the list\n",
    "    hemisphere_image_urls.append({'Title':title, \"URL\": final_url})\n",
    "\n",
    "hemisphere_image_urls   "
   ]
  }
 ],
 "metadata": {
  "kernelspec": {
   "display_name": "Python 3",
   "language": "python",
   "name": "python3"
  },
  "language_info": {
   "codemirror_mode": {
    "name": "ipython",
    "version": 3
   },
   "file_extension": ".py",
   "mimetype": "text/x-python",
   "name": "python",
   "nbconvert_exporter": "python",
   "pygments_lexer": "ipython3",
   "version": "3.7.2"
  }
 },
 "nbformat": 4,
 "nbformat_minor": 2
}
